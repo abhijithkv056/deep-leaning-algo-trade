{
 "cells": [
  {
   "cell_type": "code",
   "execution_count": 3,
   "id": "eb86c964",
   "metadata": {},
   "outputs": [
    {
     "data": {
      "text/plain": [
       "5"
      ]
     },
     "execution_count": 3,
     "metadata": {},
     "output_type": "execute_result"
    }
   ],
   "source": [
    "a =2\n",
    "b = 2030\n",
    "\n",
    "a+b\n",
    "\n",
    "one =5"
   ]
  },
  {
   "cell_type": "code",
   "execution_count": 1,
   "id": "1a121479",
   "metadata": {},
   "outputs": [],
   "source": [
    "cd = 1234\n",
    "sead =5"
   ]
  },
  {
   "cell_type": "code",
   "execution_count": 2,
   "id": "28fd8d90",
   "metadata": {},
   "outputs": [],
   "source": [
    "#new branch see"
   ]
  },
  {
   "cell_type": "code",
   "execution_count": null,
   "id": "0c5a8bc0",
   "metadata": {},
   "outputs": [],
   "source": [
    "#new branch modification into"
   ]
  }
 ],
 "metadata": {
  "kernelspec": {
   "display_name": "Python 3 (ipykernel)",
   "language": "python",
   "name": "python3"
  },
  "language_info": {
   "codemirror_mode": {
    "name": "ipython",
    "version": 3
   },
   "file_extension": ".py",
   "mimetype": "text/x-python",
   "name": "python",
   "nbconvert_exporter": "python",
   "pygments_lexer": "ipython3",
   "version": "3.9.13"
  }
 },
 "nbformat": 4,
 "nbformat_minor": 5
}
