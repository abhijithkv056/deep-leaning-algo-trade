{
 "cells": [
  {
   "cell_type": "raw",
   "id": "710fb433",
   "metadata": {},
   "source": [
    "historical data of T days;\n",
    "\n",
    "historical data between M and N days where M<N<T\n",
    "number of days eher the portofilie will be evalivated : M-N\n",
    " \n",
    "for Days in M to N:\n",
    "    Alert(Day) find out\n",
    "    sstore it\n",
    "    #store activity history funtion\n",
    "    check_for portfolio command function\n",
    "    execute porfilo command function\n",
    "    display portfoli status function\n",
    "    \n",
    "check analytics fucntion    \n",
    " ********************************************\n",
    " \n",
    " \n",
    "def check_for portfolio command:\n",
    "    for stocks in portfolio:\n",
    "        if stock == target met or stock == time up:\n",
    "            (sell that particular stock - execute porfilo command funtion call)\n",
    "            \n",
    "    if balance > required for buying:\n",
    "        (buy that stocks in alert - execute porfilo command funtion call)\n",
    "        \n",
    "    if balance < required for buying\n",
    "       (dont buy any stock in alert - execute porfilo command funtion call)\n",
    "        \n",
    "def execute porfilo command(activity,portfolio, Alert(stocks)):\n",
    "    \n",
    "    if activity === sell based:\n",
    "        Sell stock\n",
    "        update portfolio\n",
    "        update balance = old balance + sell value\n",
    "        \n",
    "    if activity == buy based:\n",
    "        buy stock\n",
    "        update portfloil\n",
    "        update balance\n",
    "        \n",
    "    funtion call --> Display status    \n",
    "        \n",
    "def  display status:\n",
    "    print balance\n",
    "    print stock value in porfolio +balance as portfolio value\n",
    "    print stocks that i have rn\n",
    "    \n",
    "#def store activity history funtion \n",
    "        \n",
    "    \n",
    "    \n",
    "    \n",
    "    "
   ]
  }
 ],
 "metadata": {
  "kernelspec": {
   "display_name": "tensorflow",
   "language": "python",
   "name": "tensorflow"
  },
  "language_info": {
   "codemirror_mode": {
    "name": "ipython",
    "version": 3
   },
   "file_extension": ".py",
   "mimetype": "text/x-python",
   "name": "python",
   "nbconvert_exporter": "python",
   "pygments_lexer": "ipython3",
   "version": "3.10.0"
  }
 },
 "nbformat": 4,
 "nbformat_minor": 5
}
